{
 "cells": [
  {
   "cell_type": "code",
   "execution_count": null,
   "metadata": {},
   "outputs": [],
   "source": [
    "import numpy as np\n",
    "import pandas as pd\n",
    "import matplotlib.pyplot as plt\n",
    "%matplotlib inline\n",
    "import os\n",
    "import os.path as osp\n",
    "from itertools import cycle\n",
    "\n",
    "import bokeh.plotting as blt\n",
    "from bokeh.io import output_notebook\n",
    "from bokeh.resources import INLINE\n",
    "output_notebook(INLINE)\n",
    "from bokeh.palettes import Inferno11 as palette"
   ]
  },
  {
   "cell_type": "code",
   "execution_count": null,
   "metadata": {},
   "outputs": [],
   "source": [
    "results_dir = \"results\"\n",
    "exp_names = []\n",
    "df_list = []\n",
    "score_names = set()\n",
    "for exp_name in os.listdir(results_dir):\n",
    "    exp_dir = osp.join(results_dir, exp_name)\n",
    "    if osp.isdir(exp_dir):\n",
    "        scores_path = osp.join(exp_dir, \"scores.csv\")\n",
    "        if osp.exists(scores_path):\n",
    "            df = pd.read_csv(scores_path)\n",
    "            if \"Unnamed: 0\" in df.columns:\n",
    "                df.drop(\"Unnamed: 0\", axis=\"columns\", inplace=True)\n",
    "            score_names = score_names.union([col for col in df.columns if not col.startswith(\"train_\")])\n",
    "            df[\"exp_name\"] = [exp_name] * len(df)\n",
    "            df_list.append(df)\n",
    "            exp_names.append(\"_\".join(exp_name.split(\"_\")[1:]))"
   ]
  },
  {
   "cell_type": "code",
   "execution_count": null,
   "metadata": {},
   "outputs": [],
   "source": [
    "bins = 10\n",
    "for score_name in score_names:\n",
    "    fig = blt.figure(title=score_name, width=600, height=400)\n",
    "    color_gen = cycle(palette)\n",
    "    for exp_name, scores_df in zip(exp_names, df_list):\n",
    "        test_df = scores_df[[col for col in scores_df.columns if \"train_\" not in col]]\n",
    "        train_df = scores_df[[col for col in scores_df.columns if \"train_\" in col]]\n",
    "        train_df.columns = [col.replace(\"train_\", \"\") for col in train_df.columns]\n",
    "        diff_df = pd.DataFrame()\n",
    "        if train_df.size != 0 and test_df.size != 0:\n",
    "            diff_df = train_df - test_df\n",
    "            \n",
    "        for exp_name, scores_df in zip(\n",
    "            [exp_name + \"_testset\", exp_name + \"_trainset\", exp_name + \"_diff\"], [test_df, train_df, diff_df]):\n",
    "            if scores_df.size != 0 and score_name in scores_df.columns:\n",
    "                hcounts, hedges = np.histogram(scores_df[score_name], bins=bins)\n",
    "                hcounts = hcounts / float(hcounts.sum())\n",
    "                fig.quad(top=hcounts, left=hedges[:-1], right=hedges[1:], bottom=0,\n",
    "                         color=next(color_gen), alpha=0.6, legend=exp_name)\n",
    "            \n",
    "    fig.legend.location = \"top_left\"\n",
    "    blt.show(fig)"
   ]
  }
 ],
 "metadata": {
  "anaconda-cloud": {},
  "kernelspec": {
   "display_name": "Python 3",
   "language": "python",
   "name": "python3"
  },
  "language_info": {
   "codemirror_mode": {
    "name": "ipython",
    "version": 3
   },
   "file_extension": ".py",
   "mimetype": "text/x-python",
   "name": "python",
   "nbconvert_exporter": "python",
   "pygments_lexer": "ipython3",
   "version": "3.7.3"
  }
 },
 "nbformat": 4,
 "nbformat_minor": 1
}
