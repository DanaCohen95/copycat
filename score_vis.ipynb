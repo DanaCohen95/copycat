{
 "cells": [
  {
   "cell_type": "code",
   "execution_count": null,
   "metadata": {},
   "outputs": [],
   "source": [
    "import numpy as np\n",
    "import pandas as pd\n",
    "import matplotlib.pyplot as plt\n",
    "%matplotlib inline\n",
    "import os\n",
    "import os.path as osp\n",
    "from itertools import cycle\n",
    "from scipy.stats import norm\n",
    "\n",
    "import bokeh.plotting as blt\n",
    "from bokeh.io import output_notebook\n",
    "from bokeh.resources import INLINE\n",
    "output_notebook(INLINE)\n",
    "from bokeh.palettes import Inferno11, Inferno7\n",
    "from bokeh.models.glyphs import Text"
   ]
  },
  {
   "cell_type": "code",
   "execution_count": null,
   "metadata": {},
   "outputs": [],
   "source": [
    "results_dir = \"results/100splits_15epochs\"\n",
    "exp_names = []\n",
    "df_list = []\n",
    "score_names = set()\n",
    "for exp_name in os.listdir(results_dir):\n",
    "    exp_dir = osp.join(results_dir, exp_name)\n",
    "    if osp.isdir(exp_dir):\n",
    "        scores_path = osp.join(exp_dir, \"scores.csv\")\n",
    "        if osp.exists(scores_path):\n",
    "            df = pd.read_csv(scores_path)\n",
    "            if \"Unnamed: 0\" in df.columns:\n",
    "                df.drop(\"Unnamed: 0\", axis=\"columns\", inplace=True)\n",
    "            score_names = score_names.union([col for col in df.columns if not col.startswith(\"train_\")])\n",
    "            df[\"exp_name\"] = [exp_name] * len(df)\n",
    "            df_list.append(df)\n",
    "            exp_names.append(exp_name)"
   ]
  },
  {
   "cell_type": "code",
   "execution_count": null,
   "metadata": {},
   "outputs": [],
   "source": [
    "exp_names[exp_names.index(\"student_nn\")] = \"copycat_nn\"\n",
    "score_names.remove(\"average_precision_macro\")"
   ]
  },
  {
   "cell_type": "code",
   "execution_count": null,
   "metadata": {
    "scrolled": false
   },
   "outputs": [],
   "source": [
    "palette = Inferno7\n",
    "bins = 8\n",
    "for set2plot in [\"test set\", \"train set\", \"diff\"]:\n",
    "    for score_name in score_names:\n",
    "        text_glyphs = []\n",
    "        fig = blt.figure(title=score_name + ': ' + set2plot, width=600, height=400)\n",
    "        color_gen = cycle(palette)\n",
    "        to_plot = list(zip(exp_names, df_list))\n",
    "        to_plot = np.array(to_plot)[[0,2,1]]\n",
    "        for exp_name, scores_df in to_plot:\n",
    "            test_df = scores_df[[col for col in scores_df.columns if \"train_\" not in col]]\n",
    "            train_df = scores_df[[col for col in scores_df.columns if \"train_\" in col]]\n",
    "            train_df.columns = [col.replace(\"train_\", \"\") for col in train_df.columns]\n",
    "            diff_df = pd.DataFrame()\n",
    "            if train_df.size != 0 and test_df.size != 0:\n",
    "                diff_df = train_df - test_df\n",
    "\n",
    "            set_name2df = {\"test set\": test_df, \"train set\": train_df, \"diff\": diff_df}\n",
    "            scores_df = set_name2df[set2plot]\n",
    "\n",
    "            if scores_df.size != 0 and score_name in scores_df.columns:\n",
    "#                 hcounts, hedges = np.histogram(scores_df[score_name], bins=bins)\n",
    "#                 hcounts = hcounts / float(hcounts.sum())\n",
    "                hcounts, hedges = np.histogram(scores_df[score_name], bins=bins, density=True)\n",
    "                curr_color = next(color_gen)\n",
    "                fig.quad(top=hcounts, left=hedges[:-1], right=hedges[1:], bottom=0,\n",
    "                         color=curr_color, alpha=0.5, legend=exp_name)\n",
    "                x_pdf = np.linspace(hedges[0], hedges[-1])\n",
    "                loc_pdf = scores_df[score_name].mean()\n",
    "                scale_pdf = scores_df[score_name].std() \n",
    "                y_pdf = norm.pdf(x_pdf, loc=loc_pdf, scale=scale_pdf)\n",
    "#                 y_pdf = y_pdf * (hedges[1] - hedges[0])\n",
    "                fig.line(x_pdf, y_pdf, color=curr_color, line_width=3, alpha=0.7)\n",
    "#                 _text = Text(x=loc_pdf-0.5*scale_pdf, y=-6, text_color=curr_color, text_font_style=\"bold\",\n",
    "#                              text=['\\u03bc=%.2f\\n\\u03c3=%.3f' % (loc_pdf, scale_pdf)])\n",
    "                _text = Text(x=loc_pdf-0.5*scale_pdf, y=-6, text_color=curr_color, text_font_style=\"bold\",\n",
    "                             text=['\\u03bc=%d%%\\n\\u03c3=%.1f%%' % (loc_pdf*100, scale_pdf*100)])\n",
    "                text_glyphs.append(_text)\n",
    "            \n",
    "        for _text in text_glyphs:\n",
    "            fig.add_glyph(_text)\n",
    "\n",
    "        fig.legend.location = \"top_left\"\n",
    "        blt.show(fig)"
   ]
  },
  {
   "cell_type": "markdown",
   "metadata": {},
   "source": [
    "# OLD"
   ]
  },
  {
   "cell_type": "code",
   "execution_count": null,
   "metadata": {},
   "outputs": [],
   "source": [
    "raise"
   ]
  },
  {
   "cell_type": "code",
   "execution_count": null,
   "metadata": {},
   "outputs": [],
   "source": [
    "palette = Inferno11\n",
    "bins = 10\n",
    "for score_name in score_names:\n",
    "    fig = blt.figure(title=score_name, width=600, height=400)\n",
    "    color_gen = cycle(palette)\n",
    "    for exp_name, scores_df in zip(exp_names, df_list):\n",
    "        test_df = scores_df[[col for col in scores_df.columns if \"train_\" not in col]]\n",
    "        train_df = scores_df[[col for col in scores_df.columns if \"train_\" in col]]\n",
    "        train_df.columns = [col.replace(\"train_\", \"\") for col in train_df.columns]\n",
    "        diff_df = pd.DataFrame()\n",
    "        if train_df.size != 0 and test_df.size != 0:\n",
    "            diff_df = train_df - test_df\n",
    "            \n",
    "        for exp_name, scores_df in zip(\n",
    "            [exp_name + \"_testset\", exp_name + \"_trainset\", exp_name + \"_diff\"], [test_df, train_df, diff_df]):\n",
    "            if scores_df.size != 0 and score_name in scores_df.columns:\n",
    "                hcounts, hedges = np.histogram(scores_df[score_name], bins=bins)\n",
    "                hcounts = hcounts / float(hcounts.sum())\n",
    "                fig.quad(top=hcounts, left=hedges[:-1], right=hedges[1:], bottom=0,\n",
    "                         color=next(color_gen), alpha=0.6, legend=exp_name)\n",
    "            \n",
    "    fig.legend.location = \"top_left\"\n",
    "    blt.show(fig)"
   ]
  },
  {
   "cell_type": "code",
   "execution_count": null,
   "metadata": {},
   "outputs": [],
   "source": [
    "palette = np.array(Inferno7)[[0,2,4]]\n",
    "bins = 100\n",
    "for score_name in score_names:\n",
    "    fig = blt.figure(title=score_name, width=600, height=400)\n",
    "    color_gen = cycle(palette)\n",
    "    to_plot = list(zip(exp_names, df_list))\n",
    "    to_plot = np.array(to_plot)[[0,2,1]]\n",
    "    for exp_name, scores_df in to_plot:\n",
    "        print(exp_name)\n",
    "        test_df = scores_df[[col for col in scores_df.columns if \"train_\" not in col]]\n",
    "        train_df = scores_df[[col for col in scores_df.columns if \"train_\" in col]]\n",
    "        train_df.columns = [col.replace(\"train_\", \"\") for col in train_df.columns]\n",
    "        diff_df = pd.DataFrame()\n",
    "        if train_df.size != 0 and test_df.size != 0:\n",
    "            diff_df = train_df - test_df\n",
    "            \n",
    "        for exp_name, scores_df in zip(\n",
    "            [exp_name + \"_diff\"], [diff_df]):\n",
    "            if scores_df.size != 0 and score_name in scores_df.columns:\n",
    "                hcounts, hedges = np.histogram(scores_df[score_name], bins=bins)\n",
    "                hcounts = hcounts / float(hcounts.sum())\n",
    "                fig.quad(top=hcounts, left=hedges[:-1], right=hedges[1:], bottom=0,\n",
    "                         color=next(color_gen), alpha=0.5, legend=exp_name)\n",
    "            \n",
    "    fig.legend.location = \"top_left\"\n",
    "    blt.show(fig)"
   ]
  },
  {
   "cell_type": "code",
   "execution_count": null,
   "metadata": {},
   "outputs": [],
   "source": []
  }
 ],
 "metadata": {
  "anaconda-cloud": {},
  "kernelspec": {
   "display_name": "Python 3",
   "language": "python",
   "name": "python3"
  },
  "language_info": {
   "codemirror_mode": {
    "name": "ipython",
    "version": 3
   },
   "file_extension": ".py",
   "mimetype": "text/x-python",
   "name": "python",
   "nbconvert_exporter": "python",
   "pygments_lexer": "ipython3",
   "version": "3.7.3"
  }
 },
 "nbformat": 4,
 "nbformat_minor": 1
}
